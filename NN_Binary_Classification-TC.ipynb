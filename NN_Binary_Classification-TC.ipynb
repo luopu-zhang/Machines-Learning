{
 "cells": [
  {
   "cell_type": "code",
   "execution_count": 45,
   "id": "8a758b26",
   "metadata": {},
   "outputs": [],
   "source": [
    "import pandas as pd\n",
    "import numpy as np\n",
    "import matplotlib.pyplot as plt\n",
    "import json\n",
    "import random\n",
    "\n",
    "from sklearn.model_selection import train_test_split\n",
    "from sklearn.metrics import accuracy_score, classification_report\n",
    "import seaborn as sns\n",
    "from sklearn.metrics import confusion_matrix\n"
   ]
  },
  {
   "cell_type": "code",
   "execution_count": 94,
   "id": "b5d67570",
   "metadata": {},
   "outputs": [],
   "source": [
    "from sklearn.model_selection import cross_val_score\n",
    "from sklearn.feature_extraction.text import CountVectorizer\n",
    "from sklearn.metrics import roc_auc_score, accuracy_score, classification_report, confusion_matrix, roc_curve, auc\n",
    "\n",
    "from sklearn.model_selection import train_test_split\n",
    "from sklearn.preprocessing import LabelEncoder\n",
    "from tensorflow.keras.preprocessing.text import Tokenizer\n",
    "from tensorflow.keras.preprocessing.sequence import pad_sequences\n",
    "from tensorflow.keras.models import Sequential\n",
    "from tensorflow.keras.layers import Embedding, Flatten, Dense, Dropout, LSTM, GRU\n",
    "\n",
    "import nltk\n",
    "from nltk.stem import WordNetLemmatizer\n",
    "from nltk.tokenize import word_tokenize\n",
    "import re\n",
    "\n",
    "from sklearn.model_selection import StratifiedKFold\n",
    "\n",
    "from keras.initializers import Constant"
   ]
  },
  {
   "cell_type": "code",
   "execution_count": null,
   "id": "a50c8f2b",
   "metadata": {},
   "outputs": [],
   "source": [
    "!pip install nltk"
   ]
  },
  {
   "cell_type": "code",
   "execution_count": 4,
   "id": "b86b351c",
   "metadata": {},
   "outputs": [
    {
     "name": "stderr",
     "output_type": "stream",
     "text": [
      "[nltk_data] Downloading package omw-1.4 to\n",
      "[nltk_data]     /Users/timcrawley/nltk_data...\n",
      "[nltk_data]   Package omw-1.4 is already up-to-date!\n"
     ]
    },
    {
     "data": {
      "text/plain": [
       "True"
      ]
     },
     "execution_count": 4,
     "metadata": {},
     "output_type": "execute_result"
    }
   ],
   "source": [
    "nltk.download('omw-1.4')"
   ]
  },
  {
   "cell_type": "code",
   "execution_count": 35,
   "id": "e28ba067",
   "metadata": {},
   "outputs": [],
   "source": [
    "# Function to plot the roc curve\n",
    "def plot_roc(pred, y):\n",
    "    fpr, tpr, _ = roc_curve(y, pred)\n",
    "    roc_auc = auc(fpr, tpr)\n",
    "    \n",
    "    plt.figure()\n",
    "    plt.plot(fpr, tpr, label='ROC curve')\n",
    "    plt.plot([0,1], [0,1], 'k--')\n",
    "    plt.xlim([0.0, 1.0])\n",
    "    plt.ylim([0.0, 1.05])\n",
    "    plt.xlabel('False Positive Rate')\n",
    "    plt.ylabel('True Positive Rate')\n",
    "    plt.title('Receiver Operating Characteristic (ROC)')\n",
    "    plt.legend(loc='lower right')\n",
    "    plt.show()"
   ]
  },
  {
   "cell_type": "code",
   "execution_count": 23,
   "id": "e18c2273",
   "metadata": {},
   "outputs": [],
   "source": [
    "# Function to clean and lemmatize the review text\n",
    "def clean_and_tokenize(string):\n",
    "    lem = WordNetLemmatizer()\n",
    "    return \" \".join([lem.lemmatize(word.lower()) for word in word_tokenize(re.sub(r\"[^\\w\\s]\", \"\", string))])"
   ]
  },
  {
   "cell_type": "code",
   "execution_count": null,
   "id": "9cb1398f",
   "metadata": {},
   "outputs": [],
   "source": [
    "# Function to read in the GloVe embeddings\n",
    "def load_glove_embeddings(embedding_file_path):\n",
    "    embeddings_index = {}\n",
    "    with open(embedding_file_path, 'r', encoding='utf-8') as file:\n",
    "        for line in file:\n",
    "            values = line.split()\n",
    "            word = values[0]\n",
    "            vector = np.asarray(values[1:], dtype='float32')\n",
    "            embeddings_index[word] = vector\n",
    "    file.close()\n",
    "    return embeddings_index"
   ]
  },
  {
   "cell_type": "code",
   "execution_count": 47,
   "id": "66d7127b",
   "metadata": {},
   "outputs": [],
   "source": [
    "df_data = pd.read_csv(\"shuffled_reviews.csv\")"
   ]
  },
  {
   "cell_type": "code",
   "execution_count": 48,
   "id": "db3a1335",
   "metadata": {},
   "outputs": [
    {
     "data": {
      "text/html": [
       "<div>\n",
       "<style scoped>\n",
       "    .dataframe tbody tr th:only-of-type {\n",
       "        vertical-align: middle;\n",
       "    }\n",
       "\n",
       "    .dataframe tbody tr th {\n",
       "        vertical-align: top;\n",
       "    }\n",
       "\n",
       "    .dataframe thead th {\n",
       "        text-align: right;\n",
       "    }\n",
       "</style>\n",
       "<table border=\"1\" class=\"dataframe\">\n",
       "  <thead>\n",
       "    <tr style=\"text-align: right;\">\n",
       "      <th></th>\n",
       "      <th>review_id</th>\n",
       "      <th>user_id</th>\n",
       "      <th>business_id</th>\n",
       "      <th>stars</th>\n",
       "      <th>useful</th>\n",
       "      <th>funny</th>\n",
       "      <th>cool</th>\n",
       "      <th>text</th>\n",
       "      <th>date</th>\n",
       "    </tr>\n",
       "  </thead>\n",
       "  <tbody>\n",
       "    <tr>\n",
       "      <th>0</th>\n",
       "      <td>vIOvJgTG6uqr44wWKG1sSA</td>\n",
       "      <td>klVVXdFPCoCd5XZzipHgSQ</td>\n",
       "      <td>18eWJFJbXyR9j_5xfcRLYA</td>\n",
       "      <td>4</td>\n",
       "      <td>0</td>\n",
       "      <td>0</td>\n",
       "      <td>0</td>\n",
       "      <td>This is a great Thai place! The environment is...</td>\n",
       "      <td>2016-07-10 03:21:59</td>\n",
       "    </tr>\n",
       "    <tr>\n",
       "      <th>1</th>\n",
       "      <td>tMYiUEzBtzJSc1F0FbZNlA</td>\n",
       "      <td>8WvvSOO3YHA9kwRuDpN8rw</td>\n",
       "      <td>HCqmx4ENAZ76SAjoalj-MQ</td>\n",
       "      <td>5</td>\n",
       "      <td>0</td>\n",
       "      <td>0</td>\n",
       "      <td>0</td>\n",
       "      <td>This is some of the best food I had while visi...</td>\n",
       "      <td>2015-04-21 02:57:34</td>\n",
       "    </tr>\n",
       "    <tr>\n",
       "      <th>2</th>\n",
       "      <td>cCc-pQlv5h3mKjgsZzFuMw</td>\n",
       "      <td>K4l-QrTWeAjb5xOXd81iGw</td>\n",
       "      <td>KVwQkBd8tJCDVc8O6_tMOg</td>\n",
       "      <td>1</td>\n",
       "      <td>0</td>\n",
       "      <td>1</td>\n",
       "      <td>0</td>\n",
       "      <td>I am continuing my search for good Chinese foo...</td>\n",
       "      <td>2015-03-20 22:49:03</td>\n",
       "    </tr>\n",
       "    <tr>\n",
       "      <th>3</th>\n",
       "      <td>9mh9OULxgSUma7UA9YQZvw</td>\n",
       "      <td>nfJDqzVr_WyNRWCeqb82Pw</td>\n",
       "      <td>1_hDCN3iioFR3XnUr32ZtA</td>\n",
       "      <td>4</td>\n",
       "      <td>0</td>\n",
       "      <td>0</td>\n",
       "      <td>0</td>\n",
       "      <td>Everything here tastes fresh. It may not be 10...</td>\n",
       "      <td>2013-04-11 19:29:06</td>\n",
       "    </tr>\n",
       "    <tr>\n",
       "      <th>4</th>\n",
       "      <td>rOQhPVWloqQbiOrctdss1g</td>\n",
       "      <td>RiM4StqnPPmg20dvGvvr4g</td>\n",
       "      <td>TV81bpCQ6p6o4Hau5hk-zw</td>\n",
       "      <td>5</td>\n",
       "      <td>0</td>\n",
       "      <td>0</td>\n",
       "      <td>0</td>\n",
       "      <td>Wonderful food! Love the food and the service ...</td>\n",
       "      <td>2015-07-04 20:03:45</td>\n",
       "    </tr>\n",
       "  </tbody>\n",
       "</table>\n",
       "</div>"
      ],
      "text/plain": [
       "                review_id                 user_id             business_id  \\\n",
       "0  vIOvJgTG6uqr44wWKG1sSA  klVVXdFPCoCd5XZzipHgSQ  18eWJFJbXyR9j_5xfcRLYA   \n",
       "1  tMYiUEzBtzJSc1F0FbZNlA  8WvvSOO3YHA9kwRuDpN8rw  HCqmx4ENAZ76SAjoalj-MQ   \n",
       "2  cCc-pQlv5h3mKjgsZzFuMw  K4l-QrTWeAjb5xOXd81iGw  KVwQkBd8tJCDVc8O6_tMOg   \n",
       "3  9mh9OULxgSUma7UA9YQZvw  nfJDqzVr_WyNRWCeqb82Pw  1_hDCN3iioFR3XnUr32ZtA   \n",
       "4  rOQhPVWloqQbiOrctdss1g  RiM4StqnPPmg20dvGvvr4g  TV81bpCQ6p6o4Hau5hk-zw   \n",
       "\n",
       "   stars  useful  funny  cool  \\\n",
       "0      4       0      0     0   \n",
       "1      5       0      0     0   \n",
       "2      1       0      1     0   \n",
       "3      4       0      0     0   \n",
       "4      5       0      0     0   \n",
       "\n",
       "                                                text                 date  \n",
       "0  This is a great Thai place! The environment is...  2016-07-10 03:21:59  \n",
       "1  This is some of the best food I had while visi...  2015-04-21 02:57:34  \n",
       "2  I am continuing my search for good Chinese foo...  2015-03-20 22:49:03  \n",
       "3  Everything here tastes fresh. It may not be 10...  2013-04-11 19:29:06  \n",
       "4  Wonderful food! Love the food and the service ...  2015-07-04 20:03:45  "
      ]
     },
     "execution_count": 48,
     "metadata": {},
     "output_type": "execute_result"
    }
   ],
   "source": [
    "df_data.head()"
   ]
  },
  {
   "cell_type": "code",
   "execution_count": 50,
   "id": "97e6d223",
   "metadata": {},
   "outputs": [],
   "source": [
    "df_data = df_data.copy().drop(columns=[\"review_id\", \"user_id\", \"business_id\", \"useful\", \"funny\", \"cool\", \"date\"])"
   ]
  },
  {
   "cell_type": "code",
   "execution_count": 51,
   "id": "1fba0ef4",
   "metadata": {},
   "outputs": [],
   "source": [
    "df_data[\"cleaned_tokens\"] = df_data[\"text\"].apply(clean_and_tokenize)"
   ]
  },
  {
   "cell_type": "code",
   "execution_count": 52,
   "id": "a96df491",
   "metadata": {
    "scrolled": true
   },
   "outputs": [
    {
     "data": {
      "text/html": [
       "<div>\n",
       "<style scoped>\n",
       "    .dataframe tbody tr th:only-of-type {\n",
       "        vertical-align: middle;\n",
       "    }\n",
       "\n",
       "    .dataframe tbody tr th {\n",
       "        vertical-align: top;\n",
       "    }\n",
       "\n",
       "    .dataframe thead th {\n",
       "        text-align: right;\n",
       "    }\n",
       "</style>\n",
       "<table border=\"1\" class=\"dataframe\">\n",
       "  <thead>\n",
       "    <tr style=\"text-align: right;\">\n",
       "      <th></th>\n",
       "      <th>stars</th>\n",
       "      <th>text</th>\n",
       "      <th>cleaned_tokens</th>\n",
       "    </tr>\n",
       "  </thead>\n",
       "  <tbody>\n",
       "    <tr>\n",
       "      <th>0</th>\n",
       "      <td>4</td>\n",
       "      <td>This is a great Thai place! The environment is...</td>\n",
       "      <td>this is a great thai place the environment is ...</td>\n",
       "    </tr>\n",
       "    <tr>\n",
       "      <th>1</th>\n",
       "      <td>5</td>\n",
       "      <td>This is some of the best food I had while visi...</td>\n",
       "      <td>this is some of the best food i had while visi...</td>\n",
       "    </tr>\n",
       "    <tr>\n",
       "      <th>2</th>\n",
       "      <td>1</td>\n",
       "      <td>I am continuing my search for good Chinese foo...</td>\n",
       "      <td>i am continuing my search for good chinese foo...</td>\n",
       "    </tr>\n",
       "    <tr>\n",
       "      <th>3</th>\n",
       "      <td>4</td>\n",
       "      <td>Everything here tastes fresh. It may not be 10...</td>\n",
       "      <td>everything here taste fresh it may not be 100 ...</td>\n",
       "    </tr>\n",
       "    <tr>\n",
       "      <th>4</th>\n",
       "      <td>5</td>\n",
       "      <td>Wonderful food! Love the food and the service ...</td>\n",
       "      <td>wonderful food love the food and the service i...</td>\n",
       "    </tr>\n",
       "    <tr>\n",
       "      <th>...</th>\n",
       "      <td>...</td>\n",
       "      <td>...</td>\n",
       "      <td>...</td>\n",
       "    </tr>\n",
       "    <tr>\n",
       "      <th>99995</th>\n",
       "      <td>1</td>\n",
       "      <td>We were there for around 10 minutes, and no on...</td>\n",
       "      <td>we were there for around 10 minute and no one ...</td>\n",
       "    </tr>\n",
       "    <tr>\n",
       "      <th>99996</th>\n",
       "      <td>3</td>\n",
       "      <td>Got chicken tikka masala &amp; garlic naan! Delive...</td>\n",
       "      <td>got chicken tikka masala garlic naan delivery ...</td>\n",
       "    </tr>\n",
       "    <tr>\n",
       "      <th>99997</th>\n",
       "      <td>4</td>\n",
       "      <td>Great food and atmosphere, especially for fast...</td>\n",
       "      <td>great food and atmosphere especially for fast ...</td>\n",
       "    </tr>\n",
       "    <tr>\n",
       "      <th>99998</th>\n",
       "      <td>1</td>\n",
       "      <td>Don't know what was up today. Went in, walked ...</td>\n",
       "      <td>dont know what wa up today went in walked up t...</td>\n",
       "    </tr>\n",
       "    <tr>\n",
       "      <th>99999</th>\n",
       "      <td>1</td>\n",
       "      <td>This location smelled like a sewer. Walked in,...</td>\n",
       "      <td>this location smelled like a sewer walked in w...</td>\n",
       "    </tr>\n",
       "  </tbody>\n",
       "</table>\n",
       "<p>100000 rows × 3 columns</p>\n",
       "</div>"
      ],
      "text/plain": [
       "       stars                                               text  \\\n",
       "0          4  This is a great Thai place! The environment is...   \n",
       "1          5  This is some of the best food I had while visi...   \n",
       "2          1  I am continuing my search for good Chinese foo...   \n",
       "3          4  Everything here tastes fresh. It may not be 10...   \n",
       "4          5  Wonderful food! Love the food and the service ...   \n",
       "...      ...                                                ...   \n",
       "99995      1  We were there for around 10 minutes, and no on...   \n",
       "99996      3  Got chicken tikka masala & garlic naan! Delive...   \n",
       "99997      4  Great food and atmosphere, especially for fast...   \n",
       "99998      1  Don't know what was up today. Went in, walked ...   \n",
       "99999      1  This location smelled like a sewer. Walked in,...   \n",
       "\n",
       "                                          cleaned_tokens  \n",
       "0      this is a great thai place the environment is ...  \n",
       "1      this is some of the best food i had while visi...  \n",
       "2      i am continuing my search for good chinese foo...  \n",
       "3      everything here taste fresh it may not be 100 ...  \n",
       "4      wonderful food love the food and the service i...  \n",
       "...                                                  ...  \n",
       "99995  we were there for around 10 minute and no one ...  \n",
       "99996  got chicken tikka masala garlic naan delivery ...  \n",
       "99997  great food and atmosphere especially for fast ...  \n",
       "99998  dont know what wa up today went in walked up t...  \n",
       "99999  this location smelled like a sewer walked in w...  \n",
       "\n",
       "[100000 rows x 3 columns]"
      ]
     },
     "execution_count": 52,
     "metadata": {},
     "output_type": "execute_result"
    }
   ],
   "source": [
    "df_data"
   ]
  },
  {
   "cell_type": "code",
   "execution_count": 53,
   "id": "a8c5d63d",
   "metadata": {},
   "outputs": [],
   "source": [
    "# import the glove embeddings\n",
    "embedding_file = \"/Users/timcrawley/Desktop/Fall23/machinelearning/final_project/glove.twitter.27B/glove.twitter.27B.100d.txt\"\n",
    "\n",
    "# Load GloVe embeddings\n",
    "glove_embeddings = load_glove_embeddings(embedding_file)"
   ]
  },
  {
   "cell_type": "code",
   "execution_count": 54,
   "id": "a59484e7",
   "metadata": {},
   "outputs": [],
   "source": [
    "# create the tokenizer\n",
    "tokenizer = Tokenizer(20000, oov_token='<OOV>')\n",
    "tokenizer.fit_on_texts(df_data['cleaned_tokens'])"
   ]
  },
  {
   "cell_type": "code",
   "execution_count": 55,
   "id": "672b7a29",
   "metadata": {},
   "outputs": [],
   "source": [
    "sequences = tokenizer.texts_to_sequences(df_data[\"cleaned_tokens\"])"
   ]
  },
  {
   "cell_type": "code",
   "execution_count": 56,
   "id": "0f824a86",
   "metadata": {},
   "outputs": [],
   "source": [
    "max_sequence_length = max(len(seq) for seq in sequences)\n",
    "padded_sequences = pad_sequences(sequences, maxlen=max_sequence_length, padding='post')"
   ]
  },
  {
   "cell_type": "code",
   "execution_count": 57,
   "id": "2cc0a0e3",
   "metadata": {},
   "outputs": [],
   "source": [
    "def create_embedding_matrix(embedding_dict, word_index):\n",
    "    num_words = len(word_index) + 1\n",
    "    embedding_dim = len(list(embedding_dict.values())[0])\n",
    "    embedding_matrix = np.zeros((num_words, embedding_dim))\n",
    "    \n",
    "    for word, i in word_index.items():\n",
    "        if i < num_words:\n",
    "            emb_vec = embedding_dict.get(word)\n",
    "            if emb_vec is not None:\n",
    "                embedding_matrix[i] = emb_vec\n",
    "    \n",
    "    return embedding_matrix"
   ]
  },
  {
   "cell_type": "code",
   "execution_count": 58,
   "id": "df603926",
   "metadata": {},
   "outputs": [],
   "source": [
    "embedding_matrix = create_embedding_matrix(glove_embeddings, tokenizer.word_index)"
   ]
  },
  {
   "cell_type": "code",
   "execution_count": 59,
   "id": "4b58757c",
   "metadata": {
    "scrolled": true
   },
   "outputs": [
    {
     "data": {
      "text/html": [
       "<div>\n",
       "<style scoped>\n",
       "    .dataframe tbody tr th:only-of-type {\n",
       "        vertical-align: middle;\n",
       "    }\n",
       "\n",
       "    .dataframe tbody tr th {\n",
       "        vertical-align: top;\n",
       "    }\n",
       "\n",
       "    .dataframe thead th {\n",
       "        text-align: right;\n",
       "    }\n",
       "</style>\n",
       "<table border=\"1\" class=\"dataframe\">\n",
       "  <thead>\n",
       "    <tr style=\"text-align: right;\">\n",
       "      <th></th>\n",
       "      <th>stars</th>\n",
       "      <th>encoded_labels</th>\n",
       "    </tr>\n",
       "  </thead>\n",
       "  <tbody>\n",
       "    <tr>\n",
       "      <th>0</th>\n",
       "      <td>4</td>\n",
       "      <td>3</td>\n",
       "    </tr>\n",
       "    <tr>\n",
       "      <th>1</th>\n",
       "      <td>5</td>\n",
       "      <td>4</td>\n",
       "    </tr>\n",
       "    <tr>\n",
       "      <th>2</th>\n",
       "      <td>1</td>\n",
       "      <td>0</td>\n",
       "    </tr>\n",
       "    <tr>\n",
       "      <th>3</th>\n",
       "      <td>4</td>\n",
       "      <td>3</td>\n",
       "    </tr>\n",
       "    <tr>\n",
       "      <th>4</th>\n",
       "      <td>5</td>\n",
       "      <td>4</td>\n",
       "    </tr>\n",
       "    <tr>\n",
       "      <th>...</th>\n",
       "      <td>...</td>\n",
       "      <td>...</td>\n",
       "    </tr>\n",
       "    <tr>\n",
       "      <th>99995</th>\n",
       "      <td>1</td>\n",
       "      <td>0</td>\n",
       "    </tr>\n",
       "    <tr>\n",
       "      <th>99996</th>\n",
       "      <td>3</td>\n",
       "      <td>2</td>\n",
       "    </tr>\n",
       "    <tr>\n",
       "      <th>99997</th>\n",
       "      <td>4</td>\n",
       "      <td>3</td>\n",
       "    </tr>\n",
       "    <tr>\n",
       "      <th>99998</th>\n",
       "      <td>1</td>\n",
       "      <td>0</td>\n",
       "    </tr>\n",
       "    <tr>\n",
       "      <th>99999</th>\n",
       "      <td>1</td>\n",
       "      <td>0</td>\n",
       "    </tr>\n",
       "  </tbody>\n",
       "</table>\n",
       "<p>100000 rows × 2 columns</p>\n",
       "</div>"
      ],
      "text/plain": [
       "       stars  encoded_labels\n",
       "0          4               3\n",
       "1          5               4\n",
       "2          1               0\n",
       "3          4               3\n",
       "4          5               4\n",
       "...      ...             ...\n",
       "99995      1               0\n",
       "99996      3               2\n",
       "99997      4               3\n",
       "99998      1               0\n",
       "99999      1               0\n",
       "\n",
       "[100000 rows x 2 columns]"
      ]
     },
     "execution_count": 59,
     "metadata": {},
     "output_type": "execute_result"
    }
   ],
   "source": [
    "# encode labels\n",
    "le = LabelEncoder()\n",
    "df_data['encoded_labels'] = le.fit_transform(df_data['stars'])\n",
    "df_data[['stars', 'encoded_labels']]"
   ]
  },
  {
   "cell_type": "code",
   "execution_count": 60,
   "id": "025e9984",
   "metadata": {},
   "outputs": [],
   "source": [
    "X_train, X_temp, y_train, y_temp = train_test_split(padded_sequences, df_data['encoded_labels'], test_size=0.1, random_state=42)\n",
    "X_valid, X_test, y_valid, y_test = train_test_split(X_temp, y_temp, test_size=0.5, random_state=42)"
   ]
  },
  {
   "cell_type": "code",
   "execution_count": 61,
   "id": "0bc634a4",
   "metadata": {},
   "outputs": [
    {
     "data": {
      "text/plain": [
       "array([[  84,    4,  349, ...,    0,    0,    0],\n",
       "       [  93,   41,   25, ...,    0,    0,    0],\n",
       "       [ 351,  258,   10, ...,    0,    0,    0],\n",
       "       ...,\n",
       "       [   5,   61,  169, ...,    0,    0,    0],\n",
       "       [  18,    7,   33, ...,    0,    0,    0],\n",
       "       [  41,    2, 2146, ...,    0,    0,    0]], dtype=int32)"
      ]
     },
     "execution_count": 61,
     "metadata": {},
     "output_type": "execute_result"
    }
   ],
   "source": [
    "X_train"
   ]
  },
  {
   "cell_type": "code",
   "execution_count": 65,
   "id": "516b3add",
   "metadata": {},
   "outputs": [],
   "source": [
    "model = Sequential()\n",
    "model.add(Embedding(input_dim=len(tokenizer.word_index)+1, \n",
    "                    output_dim=100, \n",
    "                    embeddings_initializer=Constant(embedding_matrix),\n",
    "                    input_length=max_sequence_length,\n",
    "                    trainable=False))\n",
    "model.add(Flatten())\n",
    "model.add(Dense(32, activation='relu'))\n",
    "model.add(Dropout(0.3))\n",
    "model.add(Dense(16, activation='relu'))\n",
    "model.add(Dropout(0.3))\n",
    "model.add(Dense(16, activation='relu'))\n",
    "model.add(Dropout(0.3))\n",
    "model.add(Dense(5, activation='softmax'))\n",
    "\n",
    "model.compile(optimizer='adam', loss='sparse_categorical_crossentropy', metrics=['accuracy'])"
   ]
  },
  {
   "cell_type": "code",
   "execution_count": 66,
   "id": "a1c346d1",
   "metadata": {},
   "outputs": [
    {
     "name": "stdout",
     "output_type": "stream",
     "text": [
      "Model: \"sequential_3\"\n",
      "_________________________________________________________________\n",
      " Layer (type)                Output Shape              Param #   \n",
      "=================================================================\n",
      " embedding_3 (Embedding)     (None, 971, 100)          9165200   \n",
      "                                                                 \n",
      " flatten_3 (Flatten)         (None, 97100)             0         \n",
      "                                                                 \n",
      " dense_12 (Dense)            (None, 32)                3107232   \n",
      "                                                                 \n",
      " dropout_9 (Dropout)         (None, 32)                0         \n",
      "                                                                 \n",
      " dense_13 (Dense)            (None, 16)                528       \n",
      "                                                                 \n",
      " dropout_10 (Dropout)        (None, 16)                0         \n",
      "                                                                 \n",
      " dense_14 (Dense)            (None, 16)                272       \n",
      "                                                                 \n",
      " dropout_11 (Dropout)        (None, 16)                0         \n",
      "                                                                 \n",
      " dense_15 (Dense)            (None, 5)                 85        \n",
      "                                                                 \n",
      "=================================================================\n",
      "Total params: 12273317 (46.82 MB)\n",
      "Trainable params: 3108117 (11.86 MB)\n",
      "Non-trainable params: 9165200 (34.96 MB)\n",
      "_________________________________________________________________\n"
     ]
    }
   ],
   "source": [
    "model.summary()"
   ]
  },
  {
   "cell_type": "code",
   "execution_count": 67,
   "id": "dbcd91f2",
   "metadata": {},
   "outputs": [
    {
     "name": "stdout",
     "output_type": "stream",
     "text": [
      "Epoch 1/10\n",
      "176/176 [==============================] - 32s 170ms/step - loss: 1.5352 - accuracy: 0.2779 - val_loss: 1.3371 - val_accuracy: 0.4116\n",
      "Epoch 2/10\n",
      "176/176 [==============================] - 30s 169ms/step - loss: 1.3635 - accuracy: 0.3780 - val_loss: 1.2506 - val_accuracy: 0.4406\n",
      "Epoch 3/10\n",
      "176/176 [==============================] - 29s 163ms/step - loss: 1.2770 - accuracy: 0.4219 - val_loss: 1.2427 - val_accuracy: 0.4502\n",
      "Epoch 4/10\n",
      "176/176 [==============================] - 29s 165ms/step - loss: 1.2324 - accuracy: 0.4449 - val_loss: 1.2308 - val_accuracy: 0.4558\n",
      "Epoch 5/10\n",
      "176/176 [==============================] - 29s 165ms/step - loss: 1.1968 - accuracy: 0.4631 - val_loss: 1.2453 - val_accuracy: 0.4526\n",
      "Epoch 6/10\n",
      "176/176 [==============================] - 30s 171ms/step - loss: 1.1732 - accuracy: 0.4752 - val_loss: 1.2410 - val_accuracy: 0.4538\n",
      "Epoch 7/10\n",
      "176/176 [==============================] - 31s 174ms/step - loss: 1.1511 - accuracy: 0.4866 - val_loss: 1.2543 - val_accuracy: 0.4520\n",
      "Epoch 8/10\n",
      "176/176 [==============================] - 29s 164ms/step - loss: 1.1350 - accuracy: 0.4939 - val_loss: 1.2650 - val_accuracy: 0.4482\n",
      "Epoch 9/10\n",
      "176/176 [==============================] - 32s 181ms/step - loss: 1.1166 - accuracy: 0.5037 - val_loss: 1.2642 - val_accuracy: 0.4444\n",
      "Epoch 10/10\n",
      "176/176 [==============================] - 30s 172ms/step - loss: 1.1066 - accuracy: 0.5068 - val_loss: 1.2714 - val_accuracy: 0.4530\n"
     ]
    }
   ],
   "source": [
    "history = model.fit(X_train, y_train, batch_size=512, epochs=10, validation_data=(X_valid, y_valid))"
   ]
  },
  {
   "cell_type": "code",
   "execution_count": 68,
   "id": "4a4fbdbb",
   "metadata": {},
   "outputs": [
    {
     "data": {
      "image/png": "[encoded data removed]",
      "text/plain": [
       "<Figure size 640x480 with 1 Axes>"
      ]
     },
     "metadata": {},
     "output_type": "display_data"
    }
   ],
   "source": [
    "plt.plot(history.history['accuracy'], label='Training acc')\n",
    "plt.plot(history.history['val_accuracy'], label='Validation acc')\n",
    "plt.title('Accuracy of model')\n",
    "plt.ylabel('Accuracy')\n",
    "plt.xlabel('Epoch')\n",
    "plt.legend()\n",
    "plt.show()"
   ]
  },
  {
   "cell_type": "code",
   "execution_count": 69,
   "id": "afbac038",
   "metadata": {},
   "outputs": [
    {
     "name": "stdout",
     "output_type": "stream",
     "text": [
      "157/157 [==============================] - 1s 5ms/step\n"
     ]
    }
   ],
   "source": [
    "y_pred = model.predict(X_test)"
   ]
  },
  {
   "cell_type": "code",
   "execution_count": 70,
   "id": "c81a8f60",
   "metadata": {},
   "outputs": [],
   "source": [
    "predictions = []\n",
    "for i in range(len(y_pred)):\n",
    "    max_value = np.max(y_pred[i])\n",
    "    index = np.where(y_pred==max_value)\n",
    "    predictions.append(index[1][0])   "
   ]
  },
  {
   "cell_type": "code",
   "execution_count": 72,
   "id": "b22be5ce",
   "metadata": {},
   "outputs": [
    {
     "name": "stdout",
     "output_type": "stream",
     "text": [
      "              precision    recall  f1-score   support\n",
      "\n",
      "           0       0.64      0.52      0.57       982\n",
      "           1       0.39      0.46      0.42       991\n",
      "           2       0.34      0.49      0.40       985\n",
      "           3       0.40      0.27      0.32      1064\n",
      "           4       0.60      0.56      0.58       978\n",
      "\n",
      "    accuracy                           0.46      5000\n",
      "   macro avg       0.47      0.46      0.46      5000\n",
      "weighted avg       0.47      0.46      0.46      5000\n",
      "\n"
     ]
    }
   ],
   "source": [
    "print(classification_report(y_test, predictions))"
   ]
  },
  {
   "cell_type": "code",
   "execution_count": 75,
   "id": "44f5be81",
   "metadata": {},
   "outputs": [
    {
     "data": {
      "image/png": "[encoded data removed]",
      "text/plain": [
       "<Figure size 800x600 with 2 Axes>"
      ]
     },
     "metadata": {},
     "output_type": "display_data"
    }
   ],
   "source": [
    "cm = confusion_matrix(y_test, predictions)\n",
    "plt.figure(figsize=(8,6))\n",
    "sns.heatmap(cm, annot=True, fmt='d', cmap='Blues')\n",
    "plt.title(\"Confusion Matrix without stopwords\")\n",
    "plt.xlabel(\"Predicted Label\")\n",
    "plt.ylabel('True Label')\n",
    "plt.show()"
   ]
  },
  {
   "cell_type": "code",
   "execution_count": 78,
   "id": "8b5b1cbb",
   "metadata": {},
   "outputs": [],
   "source": [
    "model = Sequential()\n",
    "model.add(Embedding(input_dim=len(tokenizer.word_index)+1, \n",
    "                    output_dim=100, \n",
    "                    embeddings_initializer=Constant(embedding_matrix),\n",
    "                    input_length=max_sequence_length,\n",
    "                    trainable=True))\n",
    "model.add(Flatten())\n",
    "model.add(Dropout(0.3))\n",
    "model.add(Dense(32, activation='relu'))\n",
    "model.add(Dropout(0.3))\n",
    "model.add(Dense(16, activation='relu'))\n",
    "model.add(Dropout(0.3))\n",
    "model.add(Dense(32, activation='relu'))\n",
    "model.add(Dropout(0.3))\n",
    "model.add(Dense(5, activation='softmax'))\n",
    "\n",
    "model.compile(optimizer='adam', loss='sparse_categorical_crossentropy', metrics=['accuracy'])"
   ]
  },
  {
   "cell_type": "code",
   "execution_count": 79,
   "id": "dc8fce82",
   "metadata": {},
   "outputs": [
    {
     "name": "stdout",
     "output_type": "stream",
     "text": [
      "Epoch 1/10\n",
      "176/176 [==============================] - 112s 622ms/step - loss: 1.4618 - accuracy: 0.3097 - val_loss: 1.2112 - val_accuracy: 0.4234\n",
      "Epoch 2/10\n",
      "176/176 [==============================] - 112s 635ms/step - loss: 1.2425 - accuracy: 0.4307 - val_loss: 1.1295 - val_accuracy: 0.4994\n",
      "Epoch 3/10\n",
      "176/176 [==============================] - 104s 594ms/step - loss: 1.1474 - accuracy: 0.4786 - val_loss: 1.0787 - val_accuracy: 0.5208\n",
      "Epoch 4/10\n",
      "176/176 [==============================] - 128s 729ms/step - loss: 1.0861 - accuracy: 0.5108 - val_loss: 1.0635 - val_accuracy: 0.5338\n",
      "Epoch 5/10\n",
      "176/176 [==============================] - 170s 967ms/step - loss: 1.0372 - accuracy: 0.5350 - val_loss: 1.0571 - val_accuracy: 0.5278\n",
      "Epoch 6/10\n",
      "176/176 [==============================] - 102s 580ms/step - loss: 1.0080 - accuracy: 0.5500 - val_loss: 1.0337 - val_accuracy: 0.5398\n",
      "Epoch 7/10\n",
      "176/176 [==============================] - 106s 602ms/step - loss: 0.9810 - accuracy: 0.5641 - val_loss: 1.0375 - val_accuracy: 0.5392\n",
      "Epoch 8/10\n",
      "176/176 [==============================] - 108s 611ms/step - loss: 0.9555 - accuracy: 0.5773 - val_loss: 1.0267 - val_accuracy: 0.5458\n",
      "Epoch 9/10\n",
      "176/176 [==============================] - 106s 602ms/step - loss: 0.9353 - accuracy: 0.5879 - val_loss: 1.0261 - val_accuracy: 0.5380\n",
      "Epoch 10/10\n",
      "176/176 [==============================] - 114s 649ms/step - loss: 0.9173 - accuracy: 0.5986 - val_loss: 1.0475 - val_accuracy: 0.5286\n"
     ]
    }
   ],
   "source": [
    "history = model.fit(X_train, y_train, batch_size=512, epochs=10, validation_data=(X_valid, y_valid))"
   ]
  },
  {
   "cell_type": "code",
   "execution_count": 80,
   "id": "5a3ba4b5",
   "metadata": {},
   "outputs": [
    {
     "data": {
      "image/png": "[encoded data removed]",
      "text/plain": [
       "<Figure size 640x480 with 1 Axes>"
      ]
     },
     "metadata": {},
     "output_type": "display_data"
    }
   ],
   "source": [
    "plt.plot(history.history['accuracy'], label='Training acc')\n",
    "plt.plot(history.history['val_accuracy'], label='Validation acc')\n",
    "plt.title('Accuracy of model')\n",
    "plt.ylabel('Accuracy')\n",
    "plt.xlabel('Epoch')\n",
    "plt.legend()\n",
    "plt.show()"
   ]
  },
  {
   "cell_type": "code",
   "execution_count": 81,
   "id": "7f6a6231",
   "metadata": {},
   "outputs": [
    {
     "data": {
      "text/html": [
       "<div>\n",
       "<style scoped>\n",
       "    .dataframe tbody tr th:only-of-type {\n",
       "        vertical-align: middle;\n",
       "    }\n",
       "\n",
       "    .dataframe tbody tr th {\n",
       "        vertical-align: top;\n",
       "    }\n",
       "\n",
       "    .dataframe thead th {\n",
       "        text-align: right;\n",
       "    }\n",
       "</style>\n",
       "<table border=\"1\" class=\"dataframe\">\n",
       "  <thead>\n",
       "    <tr style=\"text-align: right;\">\n",
       "      <th></th>\n",
       "      <th>stars</th>\n",
       "      <th>text</th>\n",
       "      <th>cleaned_tokens</th>\n",
       "      <th>encoded_labels</th>\n",
       "    </tr>\n",
       "  </thead>\n",
       "  <tbody>\n",
       "    <tr>\n",
       "      <th>0</th>\n",
       "      <td>4</td>\n",
       "      <td>This is a great Thai place! The environment is...</td>\n",
       "      <td>this is a great thai place the environment is ...</td>\n",
       "      <td>3</td>\n",
       "    </tr>\n",
       "    <tr>\n",
       "      <th>1</th>\n",
       "      <td>5</td>\n",
       "      <td>This is some of the best food I had while visi...</td>\n",
       "      <td>this is some of the best food i had while visi...</td>\n",
       "      <td>4</td>\n",
       "    </tr>\n",
       "    <tr>\n",
       "      <th>2</th>\n",
       "      <td>1</td>\n",
       "      <td>I am continuing my search for good Chinese foo...</td>\n",
       "      <td>i am continuing my search for good chinese foo...</td>\n",
       "      <td>0</td>\n",
       "    </tr>\n",
       "    <tr>\n",
       "      <th>3</th>\n",
       "      <td>4</td>\n",
       "      <td>Everything here tastes fresh. It may not be 10...</td>\n",
       "      <td>everything here taste fresh it may not be 100 ...</td>\n",
       "      <td>3</td>\n",
       "    </tr>\n",
       "    <tr>\n",
       "      <th>4</th>\n",
       "      <td>5</td>\n",
       "      <td>Wonderful food! Love the food and the service ...</td>\n",
       "      <td>wonderful food love the food and the service i...</td>\n",
       "      <td>4</td>\n",
       "    </tr>\n",
       "  </tbody>\n",
       "</table>\n",
       "</div>"
      ],
      "text/plain": [
       "   stars                                               text  \\\n",
       "0      4  This is a great Thai place! The environment is...   \n",
       "1      5  This is some of the best food I had while visi...   \n",
       "2      1  I am continuing my search for good Chinese foo...   \n",
       "3      4  Everything here tastes fresh. It may not be 10...   \n",
       "4      5  Wonderful food! Love the food and the service ...   \n",
       "\n",
       "                                      cleaned_tokens  encoded_labels  \n",
       "0  this is a great thai place the environment is ...               3  \n",
       "1  this is some of the best food i had while visi...               4  \n",
       "2  i am continuing my search for good chinese foo...               0  \n",
       "3  everything here taste fresh it may not be 100 ...               3  \n",
       "4  wonderful food love the food and the service i...               4  "
      ]
     },
     "execution_count": 81,
     "metadata": {},
     "output_type": "execute_result"
    }
   ],
   "source": [
    "df_data.head()"
   ]
  },
  {
   "cell_type": "code",
   "execution_count": 82,
   "id": "65e68198",
   "metadata": {},
   "outputs": [],
   "source": [
    "def map_to_binary(value):\n",
    "    return 1 if value >= 4 else 0"
   ]
  },
  {
   "cell_type": "code",
   "execution_count": 84,
   "id": "c711f68c",
   "metadata": {},
   "outputs": [
    {
     "data": {
      "text/html": [
       "<div>\n",
       "<style scoped>\n",
       "    .dataframe tbody tr th:only-of-type {\n",
       "        vertical-align: middle;\n",
       "    }\n",
       "\n",
       "    .dataframe tbody tr th {\n",
       "        vertical-align: top;\n",
       "    }\n",
       "\n",
       "    .dataframe thead th {\n",
       "        text-align: right;\n",
       "    }\n",
       "</style>\n",
       "<table border=\"1\" class=\"dataframe\">\n",
       "  <thead>\n",
       "    <tr style=\"text-align: right;\">\n",
       "      <th></th>\n",
       "      <th>stars</th>\n",
       "      <th>text</th>\n",
       "      <th>cleaned_tokens</th>\n",
       "      <th>encoded_labels</th>\n",
       "      <th>positive_review</th>\n",
       "    </tr>\n",
       "  </thead>\n",
       "  <tbody>\n",
       "    <tr>\n",
       "      <th>0</th>\n",
       "      <td>4</td>\n",
       "      <td>This is a great Thai place! The environment is...</td>\n",
       "      <td>this is a great thai place the environment is ...</td>\n",
       "      <td>3</td>\n",
       "      <td>1</td>\n",
       "    </tr>\n",
       "    <tr>\n",
       "      <th>1</th>\n",
       "      <td>5</td>\n",
       "      <td>This is some of the best food I had while visi...</td>\n",
       "      <td>this is some of the best food i had while visi...</td>\n",
       "      <td>4</td>\n",
       "      <td>1</td>\n",
       "    </tr>\n",
       "    <tr>\n",
       "      <th>2</th>\n",
       "      <td>1</td>\n",
       "      <td>I am continuing my search for good Chinese foo...</td>\n",
       "      <td>i am continuing my search for good chinese foo...</td>\n",
       "      <td>0</td>\n",
       "      <td>0</td>\n",
       "    </tr>\n",
       "    <tr>\n",
       "      <th>3</th>\n",
       "      <td>4</td>\n",
       "      <td>Everything here tastes fresh. It may not be 10...</td>\n",
       "      <td>everything here taste fresh it may not be 100 ...</td>\n",
       "      <td>3</td>\n",
       "      <td>1</td>\n",
       "    </tr>\n",
       "    <tr>\n",
       "      <th>4</th>\n",
       "      <td>5</td>\n",
       "      <td>Wonderful food! Love the food and the service ...</td>\n",
       "      <td>wonderful food love the food and the service i...</td>\n",
       "      <td>4</td>\n",
       "      <td>1</td>\n",
       "    </tr>\n",
       "  </tbody>\n",
       "</table>\n",
       "</div>"
      ],
      "text/plain": [
       "   stars                                               text  \\\n",
       "0      4  This is a great Thai place! The environment is...   \n",
       "1      5  This is some of the best food I had while visi...   \n",
       "2      1  I am continuing my search for good Chinese foo...   \n",
       "3      4  Everything here tastes fresh. It may not be 10...   \n",
       "4      5  Wonderful food! Love the food and the service ...   \n",
       "\n",
       "                                      cleaned_tokens  encoded_labels  \\\n",
       "0  this is a great thai place the environment is ...               3   \n",
       "1  this is some of the best food i had while visi...               4   \n",
       "2  i am continuing my search for good chinese foo...               0   \n",
       "3  everything here taste fresh it may not be 100 ...               3   \n",
       "4  wonderful food love the food and the service i...               4   \n",
       "\n",
       "   positive_review  \n",
       "0                1  \n",
       "1                1  \n",
       "2                0  \n",
       "3                1  \n",
       "4                1  "
      ]
     },
     "execution_count": 84,
     "metadata": {},
     "output_type": "execute_result"
    }
   ],
   "source": [
    "df_data[\"positive_review\"] = df_data['stars'].map(map_to_binary)\n",
    "df_data.head()"
   ]
  },
  {
   "cell_type": "code",
   "execution_count": 85,
   "id": "7b52a4a0",
   "metadata": {},
   "outputs": [],
   "source": [
    "X_train, X_temp, y_train, y_temp = train_test_split(padded_sequences, df_data['positive_review'], test_size=0.1, random_state=42)\n",
    "X_valid, X_test, y_valid, y_test = train_test_split(X_temp, y_temp, test_size=0.5, random_state=42)"
   ]
  },
  {
   "cell_type": "code",
   "execution_count": 86,
   "id": "f47f978a",
   "metadata": {},
   "outputs": [],
   "source": [
    "model = Sequential()\n",
    "model.add(Embedding(input_dim=len(tokenizer.word_index)+1, \n",
    "                    output_dim=100, \n",
    "                    embeddings_initializer=Constant(embedding_matrix),\n",
    "                    input_length=max_sequence_length,\n",
    "                    trainable=False))\n",
    "model.add(Flatten())\n",
    "model.add(Dense(32, activation='relu'))\n",
    "model.add(Dropout(0.3))\n",
    "model.add(Dense(16, activation='relu'))\n",
    "model.add(Dropout(0.3))\n",
    "model.add(Dense(16, activation='relu'))\n",
    "model.add(Dropout(0.3))\n",
    "model.add(Dense(2, activation='softmax'))\n",
    "\n",
    "model.compile(optimizer='adam', loss='sparse_categorical_crossentropy', metrics=['accuracy'])"
   ]
  },
  {
   "cell_type": "code",
   "execution_count": 87,
   "id": "42ad2e7e",
   "metadata": {},
   "outputs": [
    {
     "name": "stdout",
     "output_type": "stream",
     "text": [
      "Epoch 1/10\n",
      "176/176 [==============================] - 31s 167ms/step - loss: 0.5521 - accuracy: 0.7165 - val_loss: 0.4124 - val_accuracy: 0.8016\n",
      "Epoch 2/10\n",
      "176/176 [==============================] - 36s 203ms/step - loss: 0.4379 - accuracy: 0.8015 - val_loss: 0.4026 - val_accuracy: 0.8096\n",
      "Epoch 3/10\n",
      "176/176 [==============================] - 28s 158ms/step - loss: 0.3948 - accuracy: 0.8250 - val_loss: 0.4011 - val_accuracy: 0.8108\n",
      "Epoch 4/10\n",
      "176/176 [==============================] - 29s 167ms/step - loss: 0.3660 - accuracy: 0.8387 - val_loss: 0.4117 - val_accuracy: 0.8078\n",
      "Epoch 5/10\n",
      "176/176 [==============================] - 29s 164ms/step - loss: 0.3428 - accuracy: 0.8518 - val_loss: 0.4120 - val_accuracy: 0.8088\n",
      "Epoch 6/10\n",
      "176/176 [==============================] - 32s 180ms/step - loss: 0.3228 - accuracy: 0.8608 - val_loss: 0.4324 - val_accuracy: 0.8150\n",
      "Epoch 7/10\n",
      "176/176 [==============================] - 29s 164ms/step - loss: 0.3088 - accuracy: 0.8700 - val_loss: 0.4458 - val_accuracy: 0.8150\n",
      "Epoch 8/10\n",
      "176/176 [==============================] - 30s 171ms/step - loss: 0.2925 - accuracy: 0.8756 - val_loss: 0.4541 - val_accuracy: 0.8156\n",
      "Epoch 9/10\n",
      "176/176 [==============================] - 28s 160ms/step - loss: 0.2770 - accuracy: 0.8823 - val_loss: 0.4625 - val_accuracy: 0.8170\n",
      "Epoch 10/10\n",
      "176/176 [==============================] - 29s 165ms/step - loss: 0.2666 - accuracy: 0.8855 - val_loss: 0.4758 - val_accuracy: 0.8094\n"
     ]
    }
   ],
   "source": [
    "history = model.fit(X_train, y_train, batch_size=512, epochs=10, validation_data=(X_valid, y_valid))"
   ]
  },
  {
   "cell_type": "code",
   "execution_count": 88,
   "id": "838c40e6",
   "metadata": {},
   "outputs": [
    {
     "data": {
      "image/png": "[encoded data removed]",
      "text/plain": [
       "<Figure size 640x480 with 1 Axes>"
      ]
     },
     "metadata": {},
     "output_type": "display_data"
    }
   ],
   "source": [
    "plt.plot(history.history['accuracy'], label='Training acc')\n",
    "plt.plot(history.history['val_accuracy'], label='Validation acc')\n",
    "plt.title('Accuracy of model')\n",
    "plt.ylabel('Accuracy')\n",
    "plt.xlabel('Epoch')\n",
    "plt.legend()\n",
    "plt.show()"
   ]
  },
  {
   "cell_type": "code",
   "execution_count": 89,
   "id": "f1e9a5e4",
   "metadata": {},
   "outputs": [
    {
     "name": "stdout",
     "output_type": "stream",
     "text": [
      "157/157 [==============================] - 2s 9ms/step\n"
     ]
    }
   ],
   "source": [
    "y_pred = model.predict(X_test)"
   ]
  },
  {
   "cell_type": "code",
   "execution_count": 90,
   "id": "5fab1acf",
   "metadata": {},
   "outputs": [],
   "source": [
    "predictions = []\n",
    "for i in range(len(y_pred)):\n",
    "    max_value = np.max(y_pred[i])\n",
    "    index = np.where(y_pred==max_value)\n",
    "    predictions.append(index[1][0]) "
   ]
  },
  {
   "cell_type": "code",
   "execution_count": 91,
   "id": "0dd8818f",
   "metadata": {},
   "outputs": [
    {
     "name": "stdout",
     "output_type": "stream",
     "text": [
      "              precision    recall  f1-score   support\n",
      "\n",
      "           0       0.79      0.84      0.82      2958\n",
      "           1       0.75      0.69      0.71      2042\n",
      "\n",
      "    accuracy                           0.78      5000\n",
      "   macro avg       0.77      0.76      0.76      5000\n",
      "weighted avg       0.77      0.78      0.77      5000\n",
      "\n"
     ]
    }
   ],
   "source": [
    "print(classification_report(y_test, predictions))"
   ]
  },
  {
   "cell_type": "code",
   "execution_count": 92,
   "id": "db310033",
   "metadata": {},
   "outputs": [
    {
     "data": {
      "image/png": "[encoded data removed]",
      "text/plain": [
       "<Figure size 800x600 with 2 Axes>"
      ]
     },
     "metadata": {},
     "output_type": "display_data"
    }
   ],
   "source": [
    "cm = confusion_matrix(y_test, predictions)\n",
    "plt.figure(figsize=(8,6))\n",
    "sns.heatmap(cm, annot=True, fmt='d', cmap='Blues')\n",
    "plt.title(\"Confusion Matrix without stopwords\")\n",
    "plt.xlabel(\"Predicted Label\")\n",
    "plt.ylabel('True Label')\n",
    "plt.show()"
   ]
  },
  {
   "cell_type": "code",
   "execution_count": 95,
   "id": "e068f6d8",
   "metadata": {},
   "outputs": [
    {
     "data": {
      "image/png": "[encoded data removed]",
      "text/plain": [
       "<Figure size 640x480 with 1 Axes>"
      ]
     },
     "metadata": {},
     "output_type": "display_data"
    }
   ],
   "source": [
    "plot_roc(predictions, y_test)"
   ]
  },
  {
   "cell_type": "code",
   "execution_count": null,
   "id": "33aeff34",
   "metadata": {},
   "outputs": [],
   "source": []
  }
 ],
 "metadata": {
  "kernelspec": {
   "display_name": "ML-Kernel",
   "language": "python",
   "name": "ml-kernel"
  },
  "language_info": {
   "codemirror_mode": {
    "name": "ipython",
    "version": 3
   },
   "file_extension": ".py",
   "mimetype": "text/x-python",
   "name": "python",
   "nbconvert_exporter": "python",
   "pygments_lexer": "ipython3",
   "version": "3.9.12"
  }
 },
 "nbformat": 4,
 "nbformat_minor": 5
}
